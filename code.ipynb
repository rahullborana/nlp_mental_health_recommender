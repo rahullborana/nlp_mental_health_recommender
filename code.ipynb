{
 "cells": [
  {
   "cell_type": "code",
   "execution_count": 2,
   "metadata": {},
   "outputs": [
    {
     "name": "stdout",
     "output_type": "stream",
     "text": [
      "Top similar documents:\n"
     ]
    },
    {
     "data": {
      "text/html": [
       "<div>\n",
       "<style scoped>\n",
       "    .dataframe tbody tr th:only-of-type {\n",
       "        vertical-align: middle;\n",
       "    }\n",
       "\n",
       "    .dataframe tbody tr th {\n",
       "        vertical-align: top;\n",
       "    }\n",
       "\n",
       "    .dataframe thead th {\n",
       "        text-align: right;\n",
       "    }\n",
       "</style>\n",
       "<table border=\"1\" class=\"dataframe\">\n",
       "  <thead>\n",
       "    <tr style=\"text-align: right;\">\n",
       "      <th></th>\n",
       "      <th>disorder</th>\n",
       "      <th>text</th>\n",
       "    </tr>\n",
       "  </thead>\n",
       "  <tbody>\n",
       "    <tr>\n",
       "      <th>0</th>\n",
       "      <td>bipolar-disorder</td>\n",
       "      <td>I'm feeling very anxious today. Is this normal...</td>\n",
       "    </tr>\n",
       "    <tr>\n",
       "      <th>1</th>\n",
       "      <td>bipolar-disorder</td>\n",
       "      <td>Does anyone have experience with bipolar medic...</td>\n",
       "    </tr>\n",
       "    <tr>\n",
       "      <th>2</th>\n",
       "      <td>obsessive-compulsive-disorder-ocd</td>\n",
       "      <td>I can't stop obsessing about my thoughts. Is t...</td>\n",
       "    </tr>\n",
       "  </tbody>\n",
       "</table>\n",
       "</div>"
      ],
      "text/plain": [
       "                            disorder  \\\n",
       "0                   bipolar-disorder   \n",
       "1                   bipolar-disorder   \n",
       "2  obsessive-compulsive-disorder-ocd   \n",
       "\n",
       "                                                text  \n",
       "0  I'm feeling very anxious today. Is this normal...  \n",
       "1  Does anyone have experience with bipolar medic...  \n",
       "2  I can't stop obsessing about my thoughts. Is t...  "
      ]
     },
     "execution_count": 2,
     "metadata": {},
     "output_type": "execute_result"
    }
   ],
   "source": [
    "# Import libraries\n",
    "import spacy\n",
    "import pandas as pd\n",
    "from sklearn.feature_extraction.text import TfidfVectorizer\n",
    "from sklearn.decomposition import LatentDirichletAllocation\n",
    "from sklearn.metrics.pairwise import cosine_similarity\n",
    "\n",
    "# Load spaCy model\n",
    "nlp = spacy.load('en_core_web_md')\n",
    "\n",
    "# Sample data\n",
    "data = {\n",
    "    'disorder': ['bipolar-disorder', 'bipolar-disorder', 'obsessive-compulsive-disorder-ocd'],\n",
    "    'text': [\n",
    "        \"I'm feeling very anxious today. Is this normal for people with bipolar disorder?\",\n",
    "        \"Does anyone have experience with bipolar medication? I need advice.\",\n",
    "        \"I can't stop obsessing about my thoughts. Is this a symptom of OCD?\"\n",
    "    ]\n",
    "}\n",
    "\n",
    "# Create a DataFrame\n",
    "df = pd.DataFrame(data)\n",
    "\n",
    "# Text preprocessing\n",
    "def preprocess_text(text):\n",
    "    doc = nlp(text)\n",
    "    tokens = [token.lemma_ for token in doc if not token.is_punct and not token.is_stop]\n",
    "    return ' '.join(tokens)\n",
    "\n",
    "df['cleaned_text'] = df['text'].apply(preprocess_text)\n",
    "\n",
    "# TF-IDF Vectorization\n",
    "tfidf_vectorizer = TfidfVectorizer()\n",
    "tfidf_matrix = tfidf_vectorizer.fit_transform(df['cleaned_text'])\n",
    "\n",
    "# Topic Modeling (LDA)\n",
    "lda = LatentDirichletAllocation(n_components=2, random_state=42)\n",
    "lda_matrix = lda.fit_transform(tfidf_matrix)\n",
    "\n",
    "# Word Vector Similarity\n",
    "query = \"I'm feeling anxious and need help.\"\n",
    "query = preprocess_text(query)\n",
    "\n",
    "query_vector = tfidf_vectorizer.transform([query])\n",
    "cosine_similarities = cosine_similarity(query_vector, tfidf_matrix)\n",
    "\n",
    "# Get top similar documents\n",
    "similar_documents = df.iloc[cosine_similarities.argsort()[0][::-1]]\n",
    "\n",
    "# Print top similar documents\n",
    "print(\"Top similar documents:\")\n",
    "similar_documents[['disorder', 'text']]"
   ]
  },
  {
   "cell_type": "code",
   "execution_count": null,
   "metadata": {},
   "outputs": [],
   "source": []
  }
 ],
 "metadata": {
  "kernelspec": {
   "display_name": "Python 3",
   "language": "python",
   "name": "python3"
  },
  "language_info": {
   "codemirror_mode": {
    "name": "ipython",
    "version": 3
   },
   "file_extension": ".py",
   "mimetype": "text/x-python",
   "name": "python",
   "nbconvert_exporter": "python",
   "pygments_lexer": "ipython3",
   "version": "3.11.4"
  },
  "orig_nbformat": 4
 },
 "nbformat": 4,
 "nbformat_minor": 2
}
